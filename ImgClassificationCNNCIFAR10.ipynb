{
  "nbformat": 4,
  "nbformat_minor": 0,
  "metadata": {
    "colab": {
      "name": "ImgClassificationCNNCIFAR10.ipynb",
      "provenance": []
    },
    "kernelspec": {
      "name": "python3",
      "display_name": "Python 3"
    },
    "accelerator": "GPU"
  },
  "cells": [
    {
      "cell_type": "code",
      "metadata": {
        "id": "GW-65SxIMXbY"
      },
      "source": [
        "#Importing important liberies\r\n",
        "import tensorflow as tf\r\n",
        "from tensorflow.keras import datasets,layers,models\r\n",
        "import matplotlib.pyplot as plt\r\n",
        "import numpy as np"
      ],
      "execution_count": 1,
      "outputs": []
    },
    {
      "cell_type": "code",
      "metadata": {
        "colab": {
          "base_uri": "https://localhost:8080/"
        },
        "id": "lM0B0LtvNbXe",
        "outputId": "364271a4-389c-4279-fa13-eb8cb2b4e4d0"
      },
      "source": [
        "#Loading datasets\r\n",
        "(Xtrain,Ytrain),(Xtest,Ytest) = datasets.cifar10.load_data()\r\n",
        "Xtrain.shape, Xtest.shape\r\n"
      ],
      "execution_count": 2,
      "outputs": [
        {
          "output_type": "execute_result",
          "data": {
            "text/plain": [
              "((50000, 32, 32, 3), (10000, 32, 32, 3))"
            ]
          },
          "metadata": {
            "tags": []
          },
          "execution_count": 2
        }
      ]
    },
    {
      "cell_type": "code",
      "metadata": {
        "colab": {
          "base_uri": "https://localhost:8080/"
        },
        "id": "xL8oZ1YXOL4h",
        "outputId": "9c7ea462-e868-44c8-bc73-1e6f533bd5fa"
      },
      "source": [
        "Ytrain.shape, Ytest.shape"
      ],
      "execution_count": 3,
      "outputs": [
        {
          "output_type": "execute_result",
          "data": {
            "text/plain": [
              "((50000, 1), (10000, 1))"
            ]
          },
          "metadata": {
            "tags": []
          },
          "execution_count": 3
        }
      ]
    },
    {
      "cell_type": "code",
      "metadata": {
        "colab": {
          "base_uri": "https://localhost:8080/"
        },
        "id": "eLNvZ7PYOx_N",
        "outputId": "2bf83671-e1a3-44f0-ff1a-c69a6573e921"
      },
      "source": [
        "#Reshaping Ytest and Ytrain into vector (for convience)\r\n",
        "Ytrain=Ytrain.reshape(-1,)\r\n",
        "Ytest=Ytest.reshape(-1,)\r\n",
        "Ytrain.shape, Ytest.shape"
      ],
      "execution_count": 4,
      "outputs": [
        {
          "output_type": "execute_result",
          "data": {
            "text/plain": [
              "((50000,), (10000,))"
            ]
          },
          "metadata": {
            "tags": []
          },
          "execution_count": 4
        }
      ]
    },
    {
      "cell_type": "code",
      "metadata": {
        "id": "Zw6HJNT3PquK"
      },
      "source": [
        "#Creating labels\r\n",
        "labels=[\"airplane\",\"automobile\",\"bird\",\"cat\",\"deer\",\"dog\",\"frog\",\"horse\",\"ship\",\"truck\"]"
      ],
      "execution_count": 5,
      "outputs": []
    },
    {
      "cell_type": "code",
      "metadata": {
        "id": "WSNdZZlnQsm0"
      },
      "source": [
        "def plotimg(X,y,idx):\r\n",
        "  plt.figure(figsize=(2,2))\r\n",
        "  plt.imshow(X[idx])\r\n",
        "  plt.xlabel(labels[y[idx]])"
      ],
      "execution_count": 6,
      "outputs": []
    },
    {
      "cell_type": "code",
      "metadata": {
        "colab": {
          "base_uri": "https://localhost:8080/",
          "height": 173
        },
        "id": "NAnBtSObSzz5",
        "outputId": "fa6bae2e-21e8-4945-adac-3e01bbf279eb"
      },
      "source": [
        "plotimg(Xtrain,Ytrain,5)"
      ],
      "execution_count": 7,
      "outputs": [
        {
          "output_type": "display_data",
          "data": {
            "image/png": "[encoded data removed]",
            "text/plain": [
              "<Figure size 144x144 with 1 Axes>"
            ]
          },
          "metadata": {
            "tags": [],
            "needs_background": "light"
          }
        }
      ]
    },
    {
      "cell_type": "code",
      "metadata": {
        "id": "ftc6z4nWS9CA"
      },
      "source": [
        "#Normalising the data\r\n",
        "Xtrain=Xtrain/255\r\n",
        "Xtest=Xtest/255"
      ],
      "execution_count": 8,
      "outputs": []
    },
    {
      "cell_type": "code",
      "metadata": {
        "id": "OSIe28sWUcid"
      },
      "source": [
        "cnn=models.Sequential([\r\n",
        "                       layers.Conv2D(filters=256,activation=\"relu\",kernel_size=(3,3),input_shape=(32,32,3),padding='same'),\r\n",
        "                       layers.Conv2D(filters=512,activation=\"relu\",kernel_size=(3,3),padding='same'),\r\n",
        "                       layers.MaxPooling2D((2,2)),\r\n",
        "                       layers.Dropout(0.5),\r\n",
        "                    \r\n",
        "                       layers.Conv2D(filters=32,activation=\"relu\",kernel_size=(3,3),padding='same'),\r\n",
        "                       layers.Conv2D(filters=64,activation=\"relu\",kernel_size=(3,3),padding='same'),\r\n",
        "                       layers.MaxPooling2D((2,2)),\r\n",
        "\r\n",
        "                       layers.Flatten(),\r\n",
        "\r\n",
        "                       layers.Dense(128,activation='relu'),\r\n",
        "                       layers.Dense(10,activation='softmax')\r\n",
        "\r\n",
        "])"
      ],
      "execution_count": 9,
      "outputs": []
    },
    {
      "cell_type": "code",
      "metadata": {
        "id": "Ywea15v2XlP9"
      },
      "source": [
        "cnn.compile(optimizer='adam',loss='sparse_categorical_crossentropy',metrics=['accuracy'])"
      ],
      "execution_count": 10,
      "outputs": []
    },
    {
      "cell_type": "code",
      "metadata": {
        "colab": {
          "base_uri": "https://localhost:8080/"
        },
        "id": "bvFUo8u6YJAh",
        "outputId": "25c7729a-5dfb-4b75-b33f-2d71b92f9c04"
      },
      "source": [
        "cnn.fit(Xtrain,Ytrain,shuffle='true',batch_size=256,epochs=50)"
      ],
      "execution_count": 13,
      "outputs": [
        {
          "output_type": "stream",
          "text": [
            "Epoch 1/50\n",
            "196/196 [==============================] - 77s 395ms/step - loss: 0.4305 - accuracy: 0.8484\n",
            "Epoch 2/50\n",
            "196/196 [==============================] - 77s 393ms/step - loss: 0.3816 - accuracy: 0.8638\n",
            "Epoch 3/50\n",
            "196/196 [==============================] - 77s 392ms/step - loss: 0.3454 - accuracy: 0.8766\n",
            "Epoch 4/50\n",
            "196/196 [==============================] - 77s 393ms/step - loss: 0.3092 - accuracy: 0.8905\n",
            "Epoch 5/50\n",
            "196/196 [==============================] - 77s 391ms/step - loss: 0.2826 - accuracy: 0.8989\n",
            "Epoch 6/50\n",
            "196/196 [==============================] - 77s 391ms/step - loss: 0.2421 - accuracy: 0.9134\n",
            "Epoch 7/50\n",
            "196/196 [==============================] - 77s 393ms/step - loss: 0.2241 - accuracy: 0.9186\n",
            "Epoch 8/50\n",
            "196/196 [==============================] - 77s 394ms/step - loss: 0.2020 - accuracy: 0.9274\n",
            "Epoch 9/50\n",
            "196/196 [==============================] - 77s 394ms/step - loss: 0.1859 - accuracy: 0.9322\n",
            "Epoch 10/50\n",
            "196/196 [==============================] - 77s 395ms/step - loss: 0.1770 - accuracy: 0.9366\n",
            "Epoch 11/50\n",
            "196/196 [==============================] - 77s 392ms/step - loss: 0.1573 - accuracy: 0.9430\n",
            "Epoch 12/50\n",
            "196/196 [==============================] - 77s 392ms/step - loss: 0.1541 - accuracy: 0.9451\n",
            "Epoch 13/50\n",
            "196/196 [==============================] - 77s 391ms/step - loss: 0.1412 - accuracy: 0.9493\n",
            "Epoch 14/50\n",
            "196/196 [==============================] - 77s 392ms/step - loss: 0.1283 - accuracy: 0.9548\n",
            "Epoch 15/50\n",
            "196/196 [==============================] - 77s 391ms/step - loss: 0.1196 - accuracy: 0.9571\n",
            "Epoch 16/50\n",
            "196/196 [==============================] - 77s 392ms/step - loss: 0.1148 - accuracy: 0.9588\n",
            "Epoch 17/50\n",
            "196/196 [==============================] - 77s 391ms/step - loss: 0.1229 - accuracy: 0.9563\n",
            "Epoch 18/50\n",
            "196/196 [==============================] - 77s 391ms/step - loss: 0.1062 - accuracy: 0.9617\n",
            "Epoch 19/50\n",
            "196/196 [==============================] - 77s 391ms/step - loss: 0.1082 - accuracy: 0.9618\n",
            "Epoch 20/50\n",
            "196/196 [==============================] - 77s 392ms/step - loss: 0.0928 - accuracy: 0.9673\n",
            "Epoch 21/50\n",
            "196/196 [==============================] - 77s 391ms/step - loss: 0.0889 - accuracy: 0.9693\n",
            "Epoch 22/50\n",
            "196/196 [==============================] - 77s 391ms/step - loss: 0.0946 - accuracy: 0.9672\n",
            "Epoch 23/50\n",
            "196/196 [==============================] - 77s 391ms/step - loss: 0.0876 - accuracy: 0.9696\n",
            "Epoch 24/50\n",
            "196/196 [==============================] - 77s 391ms/step - loss: 0.0815 - accuracy: 0.9718\n",
            "Epoch 25/50\n",
            "196/196 [==============================] - 76s 389ms/step - loss: 0.0863 - accuracy: 0.9699\n",
            "Epoch 26/50\n",
            "196/196 [==============================] - 76s 390ms/step - loss: 0.0901 - accuracy: 0.9684\n",
            "Epoch 27/50\n",
            "196/196 [==============================] - 76s 389ms/step - loss: 0.0764 - accuracy: 0.9731\n",
            "Epoch 28/50\n",
            "196/196 [==============================] - 76s 389ms/step - loss: 0.0809 - accuracy: 0.9720\n",
            "Epoch 29/50\n",
            "196/196 [==============================] - 76s 389ms/step - loss: 0.0798 - accuracy: 0.9723\n",
            "Epoch 30/50\n",
            "196/196 [==============================] - 76s 389ms/step - loss: 0.0751 - accuracy: 0.9735\n",
            "Epoch 31/50\n",
            "196/196 [==============================] - 76s 388ms/step - loss: 0.0696 - accuracy: 0.9763\n",
            "Epoch 32/50\n",
            "196/196 [==============================] - 76s 388ms/step - loss: 0.0754 - accuracy: 0.9740\n",
            "Epoch 33/50\n",
            "196/196 [==============================] - 76s 388ms/step - loss: 0.0684 - accuracy: 0.9763\n",
            "Epoch 34/50\n",
            "196/196 [==============================] - 76s 389ms/step - loss: 0.0591 - accuracy: 0.9804\n",
            "Epoch 35/50\n",
            "196/196 [==============================] - 76s 388ms/step - loss: 0.0703 - accuracy: 0.9765\n",
            "Epoch 36/50\n",
            "196/196 [==============================] - 76s 388ms/step - loss: 0.0669 - accuracy: 0.9777\n",
            "Epoch 37/50\n",
            "196/196 [==============================] - 76s 388ms/step - loss: 0.0646 - accuracy: 0.9779\n",
            "Epoch 38/50\n",
            "196/196 [==============================] - 76s 388ms/step - loss: 0.0650 - accuracy: 0.9773\n",
            "Epoch 39/50\n",
            "196/196 [==============================] - 76s 387ms/step - loss: 0.0622 - accuracy: 0.9788\n",
            "Epoch 40/50\n",
            "196/196 [==============================] - 76s 388ms/step - loss: 0.0600 - accuracy: 0.9795\n",
            "Epoch 41/50\n",
            "196/196 [==============================] - 76s 387ms/step - loss: 0.0638 - accuracy: 0.9776\n",
            "Epoch 42/50\n",
            "196/196 [==============================] - 76s 388ms/step - loss: 0.0675 - accuracy: 0.9766\n",
            "Epoch 43/50\n",
            "196/196 [==============================] - 76s 387ms/step - loss: 0.0544 - accuracy: 0.9813\n",
            "Epoch 44/50\n",
            "196/196 [==============================] - 76s 387ms/step - loss: 0.0586 - accuracy: 0.9795\n",
            "Epoch 45/50\n",
            "196/196 [==============================] - 76s 387ms/step - loss: 0.0583 - accuracy: 0.9800\n",
            "Epoch 46/50\n",
            "196/196 [==============================] - 76s 387ms/step - loss: 0.0578 - accuracy: 0.9809\n",
            "Epoch 47/50\n",
            "196/196 [==============================] - 76s 386ms/step - loss: 0.0669 - accuracy: 0.9773\n",
            "Epoch 48/50\n",
            "196/196 [==============================] - 76s 387ms/step - loss: 0.0539 - accuracy: 0.9819\n",
            "Epoch 49/50\n",
            "196/196 [==============================] - 76s 386ms/step - loss: 0.0606 - accuracy: 0.9795\n",
            "Epoch 50/50\n",
            "196/196 [==============================] - 76s 387ms/step - loss: 0.0575 - accuracy: 0.9805\n"
          ],
          "name": "stdout"
        },
        {
          "output_type": "execute_result",
          "data": {
            "text/plain": [
              "<tensorflow.python.keras.callbacks.History at 0x7fb99767e6d8>"
            ]
          },
          "metadata": {
            "tags": []
          },
          "execution_count": 13
        }
      ]
    },
    {
      "cell_type": "code",
      "metadata": {
        "colab": {
          "base_uri": "https://localhost:8080/"
        },
        "id": "rK-yIoQ2YUZS",
        "outputId": "2f400ad9-c70c-428e-bda2-8ea759a93b8f"
      },
      "source": [
        "cnn.evaluate(Xtest,Ytest)"
      ],
      "execution_count": 14,
      "outputs": [
        {
          "output_type": "stream",
          "text": [
            "313/313 [==============================] - 6s 18ms/step - loss: 2.4554 - accuracy: 0.7056\n"
          ],
          "name": "stdout"
        },
        {
          "output_type": "execute_result",
          "data": {
            "text/plain": [
              "[2.455366373062134, 0.7056000232696533]"
            ]
          },
          "metadata": {
            "tags": []
          },
          "execution_count": 14
        }
      ]
    },
    {
      "cell_type": "code",
      "metadata": {
        "id": "5xYHkuGOZZBH"
      },
      "source": [
        ""
      ],
      "execution_count": 12,
      "outputs": []
    }
  ]
}